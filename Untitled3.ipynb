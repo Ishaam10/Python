{
  "nbformat": 4,
  "nbformat_minor": 0,
  "metadata": {
    "colab": {
      "provenance": [],
      "authorship_tag": "ABX9TyMu7cEE5Vkk8scZw8S6tDkl",
      "include_colab_link": true
    },
    "kernelspec": {
      "name": "python3",
      "display_name": "Python 3"
    },
    "language_info": {
      "name": "python"
    }
  },
  "cells": [
    {
      "cell_type": "markdown",
      "metadata": {
        "id": "view-in-github",
        "colab_type": "text"
      },
      "source": [
        "<a href=\"https://colab.research.google.com/github/Ishaam10/python/blob/main/Untitled3.ipynb\" target=\"_parent\"><img src=\"https://colab.research.google.com/assets/colab-badge.svg\" alt=\"Open In Colab\"/></a>"
      ]
    },
    {
      "cell_type": "code",
      "source": [
        "void setup() {\n",
        "Serial.begin(9600);\n",
        "Serial.println(\"Welcome\");\n",
        "pinMode(7, INPUT_PULLUP);\n",
        "pinMode(8, OUTPUT);\n",
        "pinMode(9, OUTPUT);\n",
        "pinMode(10, OUTPUT);\n",
        "pinMode(11, OUTPUT);\n",
        "pinMode(12, OUTPUT);\n",
        "pinMode(13, OUTPUT);\n",
        "}\n",
        "\n",
        "void loop() {\n",
        "  Serial.println(\"Roll:\");\n",
        "  while(true)\n",
        "  {\n",
        "    if(digitalRead(7)==0)\n",
        "    {\n",
        "      break;\n",
        "    }\n",
        "  }\n",
        "  int x=random(1,6);\n",
        "  Serial.println(\"output=\");\n",
        "  Serial.println(x+7);\n",
        "  digitalWrite(x+7, HIGH);\n",
        "  delay(1000);\n",
        "  digitalWrite(x+7, LOW);\n",
        "  delay(1000);\n",
        "\n",
        "}"
      ],
      "metadata": {
        "colab": {
          "base_uri": "https://localhost:8080/",
          "height": 106
        },
        "id": "Z-hp8f8v2eVL",
        "outputId": "f46a961f-b95d-431e-a479-14716d5e1b23"
      },
      "execution_count": 1,
      "outputs": [
        {
          "output_type": "error",
          "ename": "SyntaxError",
          "evalue": "invalid syntax (<ipython-input-1-50f2223aed32>, line 1)",
          "traceback": [
            "\u001b[0;36m  File \u001b[0;32m\"<ipython-input-1-50f2223aed32>\"\u001b[0;36m, line \u001b[0;32m1\u001b[0m\n\u001b[0;31m    void setup() {\u001b[0m\n\u001b[0m         ^\u001b[0m\n\u001b[0;31mSyntaxError\u001b[0m\u001b[0;31m:\u001b[0m invalid syntax\n"
          ]
        }
      ]
    }
  ]
}