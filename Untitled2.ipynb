{
  "nbformat": 4,
  "nbformat_minor": 0,
  "metadata": {
    "colab": {
      "provenance": [],
      "authorship_tag": "ABX9TyNzFZ+0vMIfN/xS/vN9N+nX",
      "include_colab_link": true
    },
    "kernelspec": {
      "name": "python3",
      "display_name": "Python 3"
    },
    "language_info": {
      "name": "python"
    }
  },
  "cells": [
    {
      "cell_type": "markdown",
      "metadata": {
        "id": "view-in-github",
        "colab_type": "text"
      },
      "source": [
        "<a href=\"https://colab.research.google.com/github/Ishaam10/python/blob/main/Untitled2.ipynb\" target=\"_parent\"><img src=\"https://colab.research.google.com/assets/colab-badge.svg\" alt=\"Open In Colab\"/></a>"
      ]
    },
    {
      "cell_type": "code",
      "execution_count": null,
      "metadata": {
        "colab": {
          "base_uri": "https://localhost:8080/"
        },
        "id": "IzNABHchCQxz",
        "outputId": "492084f9-44c6-40ca-86fa-f0bc54ad71ac"
      },
      "outputs": [
        {
          "output_type": "stream",
          "name": "stdout",
          "text": [
            "11\n"
          ]
        }
      ],
      "source": [
        "a=5\n",
        "b=6\n",
        "print(a+b)"
      ]
    },
    {
      "cell_type": "code",
      "source": [
        "a=int(input())\n",
        "b=int(input())\n",
        "print(a+b)"
      ],
      "metadata": {
        "colab": {
          "base_uri": "https://localhost:8080/"
        },
        "id": "xqTzzv0PDLuD",
        "outputId": "386c452e-3984-49e4-c129-47cdb684ab68"
      },
      "execution_count": null,
      "outputs": [
        {
          "output_type": "stream",
          "name": "stdout",
          "text": [
            "3\n",
            "9\n",
            "12\n"
          ]
        }
      ]
    },
    {
      "cell_type": "code",
      "source": [
        "a=int(input(\"enter first number:\"))\n",
        "b=int(input(\"enter second number:\"))\n",
        "\n",
        "if a < b:\n",
        "  print(\"first number is less than second\")\n",
        "elif a < b:\n",
        "  print(\"first number is greater than second\")\n",
        "else:5\n",
        "  print(\"first number is equal to second\")"
      ],
      "metadata": {
        "colab": {
          "base_uri": "https://localhost:8080/"
        },
        "id": "2ofV7qdpHGvl",
        "outputId": "de0cdda8-d936-4fad-97ee-58ec6f4da889"
      },
      "execution_count": null,
      "outputs": [
        {
          "output_type": "stream",
          "name": "stdout",
          "text": [
            "enter first number:2\n",
            "enter second number:6\n",
            "first number is less than second\n"
          ]
        }
      ]
    },
    {
      "cell_type": "code",
      "source": [
        "number=int(input())\n",
        "\n",
        "\n",
        "print(\"Multiplication Table for\", number, \":\")\n",
        "for i in range(1, 11):\n",
        "  result= number * i\n",
        "  print(f\"{number}x{i}={result}\")"
      ],
      "metadata": {
        "colab": {
          "base_uri": "https://localhost:8080/"
        },
        "id": "W9WoMgwbJq3d",
        "outputId": "ccc15e58-12ac-4d89-e79f-c8fa72967a4d"
      },
      "execution_count": null,
      "outputs": [
        {
          "output_type": "stream",
          "name": "stdout",
          "text": [
            "11\n",
            "Multiplication Table for 11 :\n",
            "11x1=11\n",
            "11x2=22\n",
            "11x3=33\n",
            "11x4=44\n",
            "11x5=55\n",
            "11x6=66\n",
            "11x7=77\n",
            "11x8=88\n",
            "11x9=99\n",
            "11x10=110\n"
          ]
        }
      ]
    }
  ]
}